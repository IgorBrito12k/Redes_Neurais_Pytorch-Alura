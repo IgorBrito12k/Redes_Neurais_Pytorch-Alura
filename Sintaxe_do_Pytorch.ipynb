{
  "cells": [
    {
      "cell_type": "markdown",
      "source": [
        "## Tipos de tensores\n",
        "\n",
        "Você pode criar tensores do Pytorch  de inúmeras formas! Vamos ver primeiro os tipos de tensores que estão ao nosso dispor. Para isso, vamos converter uma listas comuns do Python em tensores do Pytorch.\n",
        "\n",
        "NOte que a impressão dos tipos gloat32 e int64 não vêm acompanhadas do parâmetro de tipo \"dtype\", visto que se tratam dos tipos padrão trabalhados pelo Pytorch."
      ],
      "metadata": {
        "id": "XQzMDhz8DKQM"
      }
    },
    {
      "cell_type": "code",
      "source": [
        "import torch\n",
        "\n",
        "lista = [[1, 2, 3],\n",
        "         [4, 5, 6]]\n",
        "\n",
        "tensor = torch.Tensor(lista)\n",
        "print(tensor.dtype)\n",
        "print(tensor)\n",
        "\n",
        "tensor = torch.FloatTensor(lista)\n",
        "print(tensor.dtype)\n",
        "print(tensor)\n",
        "\n",
        "tensor = torch.DoubleTensor(lista)\n",
        "print(tensor.dtype)\n",
        "print(tensor)\n",
        "\n",
        "tensor = torch.LongTensor(lista)\n",
        "print(tensor.dtype)\n",
        "print(tensor)"
      ],
      "metadata": {
        "id": "tKjNctyuBpJD",
        "outputId": "fd48bb19-c5e0-47be-c299-2afbcea4077b",
        "colab": {
          "base_uri": "https://localhost:8080/"
        }
      },
      "execution_count": 4,
      "outputs": [
        {
          "output_type": "stream",
          "name": "stdout",
          "text": [
            "torch.float32\n",
            "tensor([[1., 2., 3.],\n",
            "        [4., 5., 6.]])\n",
            "torch.float32\n",
            "tensor([[1., 2., 3.],\n",
            "        [4., 5., 6.]])\n",
            "torch.float64\n",
            "tensor([[1., 2., 3.],\n",
            "        [4., 5., 6.]], dtype=torch.float64)\n",
            "torch.int64\n",
            "tensor([[1, 2, 3],\n",
            "        [4, 5, 6]])\n"
          ]
        }
      ]
    },
    {
      "cell_type": "markdown",
      "source": [
        "##Outras formas de instaciar tensores\n",
        "#A partir de array Numpy\n",
        "torch.from_numpy()"
      ],
      "metadata": {
        "id": "uLDVz6r8D2UM"
      }
    },
    {
      "cell_type": "code",
      "source": [
        "import numpy as np\n",
        "\n",
        "array = np.random.rand(3,4)\n",
        "array = array.astype(int)\n",
        "tns = torch.from_numpy(array)\n",
        "\n",
        "print(array)\n",
        "print('')\n",
        "print(array.dtype)\n",
        "print('')\n",
        "print(tns)\n",
        "print('')\n",
        "print(tns.dtype)"
      ],
      "metadata": {
        "colab": {
          "base_uri": "https://localhost:8080/"
        },
        "id": "mzvFv4YVECKr",
        "outputId": "13ecf2a2-2619-4999-fc8b-5a3f11598c72"
      },
      "execution_count": 22,
      "outputs": [
        {
          "output_type": "stream",
          "name": "stdout",
          "text": [
            "[[0 0 0 0]\n",
            " [0 0 0 0]\n",
            " [0 0 0 0]]\n",
            "\n",
            "int64\n",
            "\n",
            "tensor([[0, 0, 0, 0],\n",
            "        [0, 0, 0, 0],\n",
            "        [0, 0, 0, 0]])\n",
            "\n",
            "torch.int64\n"
          ]
        }
      ]
    },
    {
      "cell_type": "markdown",
      "source": [
        "##Tensores inicializados\n",
        "\n",
        "Essas funções recebem como parâmetro o tamanho de cada dimensão do tensor. Aqui vamos conhecer as seguintes funções:\n",
        "\n",
        "torch.ones() -> Crai um tensor preenchido com zeros.                \n",
        "torch.zeros() -> Cria um tensor preenchido com uns.             \n",
        "torch.randn() -> Cria um tensor preenchido com números aleatórios a partir de uma distribuição normal"
      ],
      "metadata": {
        "id": "0nC2kWzxGDkb"
      }
    },
    {
      "cell_type": "code",
      "source": [
        "tensor1 = torch.ones(2,3)\n",
        "tensor2 = torch.zeros(4,5)\n",
        "tensor3 = torch.randn(3,3)\n",
        "\n",
        "print(tensor1)\n",
        "print('')\n",
        "print(tensor2)\n",
        "print('')\n",
        "print(tensor3)"
      ],
      "metadata": {
        "colab": {
          "base_uri": "https://localhost:8080/"
        },
        "id": "6nt83izWG0Wq",
        "outputId": "e80355fd-4251-477c-e1a5-b528b8c3d15e"
      },
      "execution_count": 49,
      "outputs": [
        {
          "output_type": "stream",
          "name": "stdout",
          "text": [
            "tensor([[1., 1., 1.],\n",
            "        [1., 1., 1.]])\n",
            "\n",
            "tensor([[0., 0., 0., 0., 0.],\n",
            "        [0., 0., 0., 0., 0.],\n",
            "        [0., 0., 0., 0., 0.],\n",
            "        [0., 0., 0., 0., 0.]])\n",
            "\n",
            "tensor([[ 0.6766,  0.7782,  0.8986],\n",
            "        [-1.2745, -1.0248, -0.1223],\n",
            "        [-1.2174, -0.1439, -0.3668]])\n"
          ]
        }
      ]
    },
    {
      "cell_type": "markdown",
      "source": [
        "##Tensor para array numpy"
      ],
      "metadata": {
        "id": "N4UeGytWHWkO"
      }
    },
    {
      "cell_type": "code",
      "source": [
        "print(type(tensor))\n",
        "\n",
        "array = tensor.data.numpy()\n",
        "print(type(array))"
      ],
      "metadata": {
        "colab": {
          "base_uri": "https://localhost:8080/"
        },
        "id": "qbSIee5BHbsE",
        "outputId": "d91041bf-bf9d-4e6f-b9e3-80f016b22e99"
      },
      "execution_count": 24,
      "outputs": [
        {
          "output_type": "stream",
          "name": "stdout",
          "text": [
            "<class 'torch.Tensor'>\n",
            "<class 'numpy.ndarray'>\n"
          ]
        }
      ]
    },
    {
      "cell_type": "markdown",
      "source": [
        "##Indexação\n",
        "De posse dessa informação, a indexação é feita de forma similar a arrays Numpy, através da sitaxe de colchetes [ ]."
      ],
      "metadata": {
        "id": "TUfSIzNYHwTd"
      }
    },
    {
      "cell_type": "code",
      "source": [
        "lista2 = [[1, 2, 3],\n",
        "         [4, 5, 6],\n",
        "         [7, 8, 9]]\n",
        "\n",
        "tensorx = torch.LongTensor(lista2)\n",
        "print(tensorx.dtype)\n",
        "print('')\n",
        "print(tensorx)\n",
        "tensorx[0,2] = 50\n",
        "\n",
        "print('')\n",
        "print(tensorx[0:2]) #Acessa a linha 0 e 1 mas não acessa a linha 2\n",
        "print('')\n",
        "print(tensorx[:, 2]) #Acessa todas as linhas da coluna 2\n",
        "print('')\n",
        "print(tensorx[0, 2])"
      ],
      "metadata": {
        "colab": {
          "base_uri": "https://localhost:8080/"
        },
        "id": "R77KY4qUH8Nq",
        "outputId": "4ec9b694-2b0a-4eb6-f4eb-f47bcc4ec3d6"
      },
      "execution_count": 39,
      "outputs": [
        {
          "output_type": "stream",
          "name": "stdout",
          "text": [
            "torch.int64\n",
            "\n",
            "tensor([[1, 2, 3],\n",
            "        [4, 5, 6],\n",
            "        [7, 8, 9]])\n",
            "\n",
            "tensor([[ 1,  2, 50],\n",
            "        [ 4,  5,  6]])\n",
            "\n",
            "tensor([50,  6,  9])\n",
            "\n",
            "tensor(50)\n"
          ]
        }
      ]
    },
    {
      "cell_type": "markdown",
      "source": [
        "##Operações com tensores\n",
        "\n",
        "A função .item() utilizada anteriormente extrai o número de um tensor que possui um único valor, permitindo realizar as operações numéricas do Python.\n",
        "Caso o item não seja extraído, operações que envolvam tensores vão retornar novos tensores.\n",
        "\n",
        "Vale ressaltar também que operações entre tensores são realizadas ponto a ponto, operando cada elemento (i, j) do tensor t1, com o elemento (i, j) do tensor t2"
      ],
      "metadata": {
        "id": "ZW4O7x-1KrrT"
      }
    },
    {
      "cell_type": "code",
      "source": [
        "tensor3 = torch.randn(3,3)\n",
        "\n",
        "print(tensorx)\n",
        "print(tensorx.shape)\n",
        "print()\n",
        "print(tensor3)\n",
        "print(tensor3.shape)\n",
        "print()\n",
        "print(tensor3+tensorx)\n",
        "print()\n",
        "print(tensor3*tensorx)\n",
        "print()\n",
        "print(tensor3/tensorx)\n"
      ],
      "metadata": {
        "colab": {
          "base_uri": "https://localhost:8080/"
        },
        "id": "WRPWhTJTLf_c",
        "outputId": "7815ae39-0053-4d4f-a46a-9fb8171dd905"
      },
      "execution_count": 53,
      "outputs": [
        {
          "output_type": "stream",
          "name": "stdout",
          "text": [
            "tensor([[ 1,  2, 50],\n",
            "        [ 4,  5,  6],\n",
            "        [ 7,  8,  9]])\n",
            "torch.Size([3, 3])\n",
            "\n",
            "tensor([[-1.3681,  1.2661,  1.3092],\n",
            "        [-1.3420, -0.1380, -0.5812],\n",
            "        [-0.5569,  0.3361, -1.2301]])\n",
            "torch.Size([3, 3])\n",
            "\n",
            "tensor([[-0.3681,  3.2661, 51.3092],\n",
            "        [ 2.6580,  4.8620,  5.4188],\n",
            "        [ 6.4431,  8.3361,  7.7699]])\n",
            "\n",
            "tensor([[ -1.3681,   2.5322,  65.4594],\n",
            "        [ -5.3679,  -0.6898,  -3.4872],\n",
            "        [ -3.8986,   2.6891, -11.0709]])\n",
            "\n",
            "tensor([[-1.3681,  0.6331,  0.0262],\n",
            "        [-0.3355, -0.0276, -0.0969],\n",
            "        [-0.0796,  0.0420, -0.1367]])\n"
          ]
        }
      ]
    },
    {
      "cell_type": "markdown",
      "source": [
        "##Função .size() e .view()\n",
        "\n",
        "Uma operação **importantíssima** na manipulação de tensores para deep learning é a reorganização das suas dimensões. Dessa forma podemos, por exemplo, **linarizar um tensor n-dimensional.**"
      ],
      "metadata": {
        "id": "yq_ir-nSMyFM"
      }
    },
    {
      "cell_type": "code",
      "source": [
        "print(tensorx.size(0))\n",
        "print(tensorx.size())\n",
        "print()\n",
        "\n",
        "tensor4 = torch.randn(4, 3)\n",
        "print(tensor4)\n",
        "tensor4 = tensor4.view(12)\n",
        "print(tensor4)\n",
        "print()\n",
        "tensor4 = tensor4.view(tensor4.size(0), -1)\n",
        "print(tensor4)"
      ],
      "metadata": {
        "colab": {
          "base_uri": "https://localhost:8080/"
        },
        "id": "Ej3eFDDRNNfs",
        "outputId": "279eef27-bd83-4765-a7de-3ea47bf85ed6"
      },
      "execution_count": 62,
      "outputs": [
        {
          "output_type": "stream",
          "name": "stdout",
          "text": [
            "3\n",
            "torch.Size([3, 3])\n",
            "\n",
            "tensor([[ 0.0622, -0.7842, -0.3373],\n",
            "        [ 0.3011, -0.5294,  0.2643],\n",
            "        [-0.1610,  1.9975,  0.4554],\n",
            "        [-0.6714, -1.0703, -0.7920]])\n",
            "tensor([ 0.0622, -0.7842, -0.3373,  0.3011, -0.5294,  0.2643, -0.1610,  1.9975,\n",
            "         0.4554, -0.6714, -1.0703, -0.7920])\n",
            "\n",
            "tensor([[ 0.0622],\n",
            "        [-0.7842],\n",
            "        [-0.3373],\n",
            "        [ 0.3011],\n",
            "        [-0.5294],\n",
            "        [ 0.2643],\n",
            "        [-0.1610],\n",
            "        [ 1.9975],\n",
            "        [ 0.4554],\n",
            "        [-0.6714],\n",
            "        [-1.0703],\n",
            "        [-0.7920]])\n"
          ]
        }
      ]
    },
    {
      "cell_type": "markdown",
      "source": [
        "##GPU Cast\n",
        "Para que seu script dê suporte a infraestrutura com e sem GPU, é importante definir o dispositivo no ínicio do seu código de acordo com a verificação apresentada a seguir. Essa definição de dispositivo será utilizada toda vez que precisamos subir valores na GPU, como os pesos da rede, os gradientes e etc."
      ],
      "metadata": {
        "id": "lKWIv1v2OsKU"
      }
    },
    {
      "cell_type": "code",
      "source": [
        "if torch.cuda.is_available():\n",
        "  device = torch.devide('cuda')\n",
        "else:\n",
        "  device = torch.device('cpu')\n",
        "print(device)"
      ],
      "metadata": {
        "colab": {
          "base_uri": "https://localhost:8080/"
        },
        "id": "jrtt4sX7PLOb",
        "outputId": "ad7e7fae-378f-4401-c668-200c80dba025"
      },
      "execution_count": 64,
      "outputs": [
        {
          "output_type": "stream",
          "name": "stdout",
          "text": [
            "cpu\n"
          ]
        }
      ]
    }
  ],
  "metadata": {
    "kernelspec": {
      "display_name": "Python 3",
      "language": "python",
      "name": "python3"
    },
    "language_info": {
      "codemirror_mode": {
        "name": "ipython",
        "version": 3
      },
      "file_extension": ".py",
      "mimetype": "text/x-python",
      "name": "python",
      "nbconvert_exporter": "python",
      "pygments_lexer": "ipython3",
      "version": "3.10.12"
    },
    "colab": {
      "provenance": []
    }
  },
  "nbformat": 4,
  "nbformat_minor": 0
}